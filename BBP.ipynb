{
  "nbformat": 4,
  "nbformat_minor": 0,
  "metadata": {
    "colab": {
      "name": "BBP.ipynb",
      "provenance": [],
      "collapsed_sections": []
    },
    "kernelspec": {
      "name": "python3",
      "display_name": "Python 3"
    },
    "language_info": {
      "name": "python"
    }
  },
  "cells": [
    {
      "cell_type": "code",
      "metadata": {
        "id": "wn1xN7x9gChv"
      },
      "source": [
        ""
      ],
      "execution_count": null,
      "outputs": []
    },
    {
      "cell_type": "markdown",
      "metadata": {
        "id": "Kbr12_jugy9U"
      },
      "source": [
        "\n",
        "Задание 1.\n",
        "Вы - менеджер по продажам в нефтехимической компании. Вы ведете несколько ключевых клиентов, которые закупают продукты вашей компании. Ваша компания запускает новый продукт - \"Волшебный белый порошок\" (ВБП), который по своим свойствам похож на тот, что уже есть на рынке. Ваши клиенты предпочитают формульный подход к ценообразованию. Вам нужно предложить клиентам формулу расчета цены на ВБП. В зависимости от объемов, которые покупают клиенты, им может быть предложена скидка.\n",
        "\n",
        "Дополнительные вводные:\n",
        "Так как продукт Б новый, возможно стоит предложить дисконт от цены Продукта А. Продукт производиться из нефти. Один из известных способов производства предполагает что из 16 баррелей нефти сделают одну тонну ВБП, а затраты на производство в районе 400 евро."
      ]
    },
    {
      "cell_type": "code",
      "metadata": {
        "id": "sRAyllhpgo4_"
      },
      "source": [
        "\n",
        "%matplotlib inline\n",
        "\n",
        "import pandas as pd\n",
        "import matplotlib.pyplot as plt\n",
        "import seaborn; seaborn.set()\n",
        "from pandas_datareader import data as pdr\n",
        "from bs4 import BeautifulSoup"
      ],
      "execution_count": 2,
      "outputs": []
    },
    {
      "cell_type": "code",
      "metadata": {
        "colab": {
          "resources": {
            "http://localhost:8080/nbextensions/google.colab/files.js": {
              "data": "Ly8gQ29weXJpZ2h0IDIwMTcgR29vZ2xlIExMQwovLwovLyBMaWNlbnNlZCB1bmRlciB0aGUgQXBhY2hlIExpY2Vuc2UsIFZlcnNpb24gMi4wICh0aGUgIkxpY2Vuc2UiKTsKLy8geW91IG1heSBub3QgdXNlIHRoaXMgZmlsZSBleGNlcHQgaW4gY29tcGxpYW5jZSB3aXRoIHRoZSBMaWNlbnNlLgovLyBZb3UgbWF5IG9idGFpbiBhIGNvcHkgb2YgdGhlIExpY2Vuc2UgYXQKLy8KLy8gICAgICBodHRwOi8vd3d3LmFwYWNoZS5vcmcvbGljZW5zZXMvTElDRU5TRS0yLjAKLy8KLy8gVW5sZXNzIHJlcXVpcmVkIGJ5IGFwcGxpY2FibGUgbGF3IG9yIGFncmVlZCB0byBpbiB3cml0aW5nLCBzb2Z0d2FyZQovLyBkaXN0cmlidXRlZCB1bmRlciB0aGUgTGljZW5zZSBpcyBkaXN0cmlidXRlZCBvbiBhbiAiQVMgSVMiIEJBU0lTLAovLyBXSVRIT1VUIFdBUlJBTlRJRVMgT1IgQ09ORElUSU9OUyBPRiBBTlkgS0lORCwgZWl0aGVyIGV4cHJlc3Mgb3IgaW1wbGllZC4KLy8gU2VlIHRoZSBMaWNlbnNlIGZvciB0aGUgc3BlY2lmaWMgbGFuZ3VhZ2UgZ292ZXJuaW5nIHBlcm1pc3Npb25zIGFuZAovLyBsaW1pdGF0aW9ucyB1bmRlciB0aGUgTGljZW5zZS4KCi8qKgogKiBAZmlsZW92ZXJ2aWV3IEhlbHBlcnMgZm9yIGdvb2dsZS5jb2xhYiBQeXRob24gbW9kdWxlLgogKi8KKGZ1bmN0aW9uKHNjb3BlKSB7CmZ1bmN0aW9uIHNwYW4odGV4dCwgc3R5bGVBdHRyaWJ1dGVzID0ge30pIHsKICBjb25zdCBlbGVtZW50ID0gZG9jdW1lbnQuY3JlYXRlRWxlbWVudCgnc3BhbicpOwogIGVsZW1lbnQudGV4dENvbnRlbnQgPSB0ZXh0OwogIGZvciAoY29uc3Qga2V5IG9mIE9iamVjdC5rZXlzKHN0eWxlQXR0cmlidXRlcykpIHsKICAgIGVsZW1lbnQuc3R5bGVba2V5XSA9IHN0eWxlQXR0cmlidXRlc1trZXldOwogIH0KICByZXR1cm4gZWxlbWVudDsKfQoKLy8gTWF4IG51bWJlciBvZiBieXRlcyB3aGljaCB3aWxsIGJlIHVwbG9hZGVkIGF0IGEgdGltZS4KY29uc3QgTUFYX1BBWUxPQURfU0laRSA9IDEwMCAqIDEwMjQ7CgpmdW5jdGlvbiBfdXBsb2FkRmlsZXMoaW5wdXRJZCwgb3V0cHV0SWQpIHsKICBjb25zdCBzdGVwcyA9IHVwbG9hZEZpbGVzU3RlcChpbnB1dElkLCBvdXRwdXRJZCk7CiAgY29uc3Qgb3V0cHV0RWxlbWVudCA9IGRvY3VtZW50LmdldEVsZW1lbnRCeUlkKG91dHB1dElkKTsKICAvLyBDYWNoZSBzdGVwcyBvbiB0aGUgb3V0cHV0RWxlbWVudCB0byBtYWtlIGl0IGF2YWlsYWJsZSBmb3IgdGhlIG5leHQgY2FsbAogIC8vIHRvIHVwbG9hZEZpbGVzQ29udGludWUgZnJvbSBQeXRob24uCiAgb3V0cHV0RWxlbWVudC5zdGVwcyA9IHN0ZXBzOwoKICByZXR1cm4gX3VwbG9hZEZpbGVzQ29udGludWUob3V0cHV0SWQpOwp9CgovLyBUaGlzIGlzIHJvdWdobHkgYW4gYXN5bmMgZ2VuZXJhdG9yIChub3Qgc3VwcG9ydGVkIGluIHRoZSBicm93c2VyIHlldCksCi8vIHdoZXJlIHRoZXJlIGFyZSBtdWx0aXBsZSBhc3luY2hyb25vdXMgc3RlcHMgYW5kIHRoZSBQeXRob24gc2lkZSBpcyBnb2luZwovLyB0byBwb2xsIGZvciBjb21wbGV0aW9uIG9mIGVhY2ggc3RlcC4KLy8gVGhpcyB1c2VzIGEgUHJvbWlzZSB0byBibG9jayB0aGUgcHl0aG9uIHNpZGUgb24gY29tcGxldGlvbiBvZiBlYWNoIHN0ZXAsCi8vIHRoZW4gcGFzc2VzIHRoZSByZXN1bHQgb2YgdGhlIHByZXZpb3VzIHN0ZXAgYXMgdGhlIGlucHV0IHRvIHRoZSBuZXh0IHN0ZXAuCmZ1bmN0aW9uIF91cGxvYWRGaWxlc0NvbnRpbnVlKG91dHB1dElkKSB7CiAgY29uc3Qgb3V0cHV0RWxlbWVudCA9IGRvY3VtZW50LmdldEVsZW1lbnRCeUlkKG91dHB1dElkKTsKICBjb25zdCBzdGVwcyA9IG91dHB1dEVsZW1lbnQuc3RlcHM7CgogIGNvbnN0IG5leHQgPSBzdGVwcy5uZXh0KG91dHB1dEVsZW1lbnQubGFzdFByb21pc2VWYWx1ZSk7CiAgcmV0dXJuIFByb21pc2UucmVzb2x2ZShuZXh0LnZhbHVlLnByb21pc2UpLnRoZW4oKHZhbHVlKSA9PiB7CiAgICAvLyBDYWNoZSB0aGUgbGFzdCBwcm9taXNlIHZhbHVlIHRvIG1ha2UgaXQgYXZhaWxhYmxlIHRvIHRoZSBuZXh0CiAgICAvLyBzdGVwIG9mIHRoZSBnZW5lcmF0b3IuCiAgICBvdXRwdXRFbGVtZW50Lmxhc3RQcm9taXNlVmFsdWUgPSB2YWx1ZTsKICAgIHJldHVybiBuZXh0LnZhbHVlLnJlc3BvbnNlOwogIH0pOwp9CgovKioKICogR2VuZXJhdG9yIGZ1bmN0aW9uIHdoaWNoIGlzIGNhbGxlZCBiZXR3ZWVuIGVhY2ggYXN5bmMgc3RlcCBvZiB0aGUgdXBsb2FkCiAqIHByb2Nlc3MuCiAqIEBwYXJhbSB7c3RyaW5nfSBpbnB1dElkIEVsZW1lbnQgSUQgb2YgdGhlIGlucHV0IGZpbGUgcGlja2VyIGVsZW1lbnQuCiAqIEBwYXJhbSB7c3RyaW5nfSBvdXRwdXRJZCBFbGVtZW50IElEIG9mIHRoZSBvdXRwdXQgZGlzcGxheS4KICogQHJldHVybiB7IUl0ZXJhYmxlPCFPYmplY3Q+fSBJdGVyYWJsZSBvZiBuZXh0IHN0ZXBzLgogKi8KZnVuY3Rpb24qIHVwbG9hZEZpbGVzU3RlcChpbnB1dElkLCBvdXRwdXRJZCkgewogIGNvbnN0IGlucHV0RWxlbWVudCA9IGRvY3VtZW50LmdldEVsZW1lbnRCeUlkKGlucHV0SWQpOwogIGlucHV0RWxlbWVudC5kaXNhYmxlZCA9IGZhbHNlOwoKICBjb25zdCBvdXRwdXRFbGVtZW50ID0gZG9jdW1lbnQuZ2V0RWxlbWVudEJ5SWQob3V0cHV0SWQpOwogIG91dHB1dEVsZW1lbnQuaW5uZXJIVE1MID0gJyc7CgogIGNvbnN0IHBpY2tlZFByb21pc2UgPSBuZXcgUHJvbWlzZSgocmVzb2x2ZSkgPT4gewogICAgaW5wdXRFbGVtZW50LmFkZEV2ZW50TGlzdGVuZXIoJ2NoYW5nZScsIChlKSA9PiB7CiAgICAgIHJlc29sdmUoZS50YXJnZXQuZmlsZXMpOwogICAgfSk7CiAgfSk7CgogIGNvbnN0IGNhbmNlbCA9IGRvY3VtZW50LmNyZWF0ZUVsZW1lbnQoJ2J1dHRvbicpOwogIGlucHV0RWxlbWVudC5wYXJlbnRFbGVtZW50LmFwcGVuZENoaWxkKGNhbmNlbCk7CiAgY2FuY2VsLnRleHRDb250ZW50ID0gJ0NhbmNlbCB1cGxvYWQnOwogIGNvbnN0IGNhbmNlbFByb21pc2UgPSBuZXcgUHJvbWlzZSgocmVzb2x2ZSkgPT4gewogICAgY2FuY2VsLm9uY2xpY2sgPSAoKSA9PiB7CiAgICAgIHJlc29sdmUobnVsbCk7CiAgICB9OwogIH0pOwoKICAvLyBXYWl0IGZvciB0aGUgdXNlciB0byBwaWNrIHRoZSBmaWxlcy4KICBjb25zdCBmaWxlcyA9IHlpZWxkIHsKICAgIHByb21pc2U6IFByb21pc2UucmFjZShbcGlja2VkUHJvbWlzZSwgY2FuY2VsUHJvbWlzZV0pLAogICAgcmVzcG9uc2U6IHsKICAgICAgYWN0aW9uOiAnc3RhcnRpbmcnLAogICAgfQogIH07CgogIGNhbmNlbC5yZW1vdmUoKTsKCiAgLy8gRGlzYWJsZSB0aGUgaW5wdXQgZWxlbWVudCBzaW5jZSBmdXJ0aGVyIHBpY2tzIGFyZSBub3QgYWxsb3dlZC4KICBpbnB1dEVsZW1lbnQuZGlzYWJsZWQgPSB0cnVlOwoKICBpZiAoIWZpbGVzKSB7CiAgICByZXR1cm4gewogICAgICByZXNwb25zZTogewogICAgICAgIGFjdGlvbjogJ2NvbXBsZXRlJywKICAgICAgfQogICAgfTsKICB9CgogIGZvciAoY29uc3QgZmlsZSBvZiBmaWxlcykgewogICAgY29uc3QgbGkgPSBkb2N1bWVudC5jcmVhdGVFbGVtZW50KCdsaScpOwogICAgbGkuYXBwZW5kKHNwYW4oZmlsZS5uYW1lLCB7Zm9udFdlaWdodDogJ2JvbGQnfSkpOwogICAgbGkuYXBwZW5kKHNwYW4oCiAgICAgICAgYCgke2ZpbGUudHlwZSB8fCAnbi9hJ30pIC0gJHtmaWxlLnNpemV9IGJ5dGVzLCBgICsKICAgICAgICBgbGFzdCBtb2RpZmllZDogJHsKICAgICAgICAgICAgZmlsZS5sYXN0TW9kaWZpZWREYXRlID8gZmlsZS5sYXN0TW9kaWZpZWREYXRlLnRvTG9jYWxlRGF0ZVN0cmluZygpIDoKICAgICAgICAgICAgICAgICAgICAgICAgICAgICAgICAgICAgJ24vYSd9IC0gYCkpOwogICAgY29uc3QgcGVyY2VudCA9IHNwYW4oJzAlIGRvbmUnKTsKICAgIGxpLmFwcGVuZENoaWxkKHBlcmNlbnQpOwoKICAgIG91dHB1dEVsZW1lbnQuYXBwZW5kQ2hpbGQobGkpOwoKICAgIGNvbnN0IGZpbGVEYXRhUHJvbWlzZSA9IG5ldyBQcm9taXNlKChyZXNvbHZlKSA9PiB7CiAgICAgIGNvbnN0IHJlYWRlciA9IG5ldyBGaWxlUmVhZGVyKCk7CiAgICAgIHJlYWRlci5vbmxvYWQgPSAoZSkgPT4gewogICAgICAgIHJlc29sdmUoZS50YXJnZXQucmVzdWx0KTsKICAgICAgfTsKICAgICAgcmVhZGVyLnJlYWRBc0FycmF5QnVmZmVyKGZpbGUpOwogICAgfSk7CiAgICAvLyBXYWl0IGZvciB0aGUgZGF0YSB0byBiZSByZWFkeS4KICAgIGxldCBmaWxlRGF0YSA9IHlpZWxkIHsKICAgICAgcHJvbWlzZTogZmlsZURhdGFQcm9taXNlLAogICAgICByZXNwb25zZTogewogICAgICAgIGFjdGlvbjogJ2NvbnRpbnVlJywKICAgICAgfQogICAgfTsKCiAgICAvLyBVc2UgYSBjaHVua2VkIHNlbmRpbmcgdG8gYXZvaWQgbWVzc2FnZSBzaXplIGxpbWl0cy4gU2VlIGIvNjIxMTU2NjAuCiAgICBsZXQgcG9zaXRpb24gPSAwOwogICAgZG8gewogICAgICBjb25zdCBsZW5ndGggPSBNYXRoLm1pbihmaWxlRGF0YS5ieXRlTGVuZ3RoIC0gcG9zaXRpb24sIE1BWF9QQVlMT0FEX1NJWkUpOwogICAgICBjb25zdCBjaHVuayA9IG5ldyBVaW50OEFycmF5KGZpbGVEYXRhLCBwb3NpdGlvbiwgbGVuZ3RoKTsKICAgICAgcG9zaXRpb24gKz0gbGVuZ3RoOwoKICAgICAgY29uc3QgYmFzZTY0ID0gYnRvYShTdHJpbmcuZnJvbUNoYXJDb2RlLmFwcGx5KG51bGwsIGNodW5rKSk7CiAgICAgIHlpZWxkIHsKICAgICAgICByZXNwb25zZTogewogICAgICAgICAgYWN0aW9uOiAnYXBwZW5kJywKICAgICAgICAgIGZpbGU6IGZpbGUubmFtZSwKICAgICAgICAgIGRhdGE6IGJhc2U2NCwKICAgICAgICB9LAogICAgICB9OwoKICAgICAgbGV0IHBlcmNlbnREb25lID0gZmlsZURhdGEuYnl0ZUxlbmd0aCA9PT0gMCA/CiAgICAgICAgICAxMDAgOgogICAgICAgICAgTWF0aC5yb3VuZCgocG9zaXRpb24gLyBmaWxlRGF0YS5ieXRlTGVuZ3RoKSAqIDEwMCk7CiAgICAgIHBlcmNlbnQudGV4dENvbnRlbnQgPSBgJHtwZXJjZW50RG9uZX0lIGRvbmVgOwoKICAgIH0gd2hpbGUgKHBvc2l0aW9uIDwgZmlsZURhdGEuYnl0ZUxlbmd0aCk7CiAgfQoKICAvLyBBbGwgZG9uZS4KICB5aWVsZCB7CiAgICByZXNwb25zZTogewogICAgICBhY3Rpb246ICdjb21wbGV0ZScsCiAgICB9CiAgfTsKfQoKc2NvcGUuZ29vZ2xlID0gc2NvcGUuZ29vZ2xlIHx8IHt9OwpzY29wZS5nb29nbGUuY29sYWIgPSBzY29wZS5nb29nbGUuY29sYWIgfHwge307CnNjb3BlLmdvb2dsZS5jb2xhYi5fZmlsZXMgPSB7CiAgX3VwbG9hZEZpbGVzLAogIF91cGxvYWRGaWxlc0NvbnRpbnVlLAp9Owp9KShzZWxmKTsK",
              "ok": true,
              "headers": [
                [
                  "content-type",
                  "application/javascript"
                ]
              ],
              "status": 200,
              "status_text": ""
            }
          },
          "base_uri": "https://localhost:8080/",
          "height": 70
        },
        "id": "F08pqIqwgWGv",
        "outputId": "9a21de83-5531-48de-ee5e-67d8d9b4c39f"
      },
      "source": [
        "from google.colab import files \n",
        "uploaded = files.upload()\n"
      ],
      "execution_count": 3,
      "outputs": [
        {
          "output_type": "display_data",
          "data": {
            "text/html": [
              "\n",
              "     <input type=\"file\" id=\"files-45a880ca-2e8d-4463-a286-a3cf32b6bb60\" name=\"files[]\" multiple disabled\n",
              "        style=\"border:none\" />\n",
              "     <output id=\"result-45a880ca-2e8d-4463-a286-a3cf32b6bb60\">\n",
              "      Upload widget is only available when the cell has been executed in the\n",
              "      current browser session. Please rerun this cell to enable.\n",
              "      </output>\n",
              "      <script src=\"/nbextensions/google.colab/files.js\"></script> "
            ],
            "text/plain": [
              "<IPython.core.display.HTML object>"
            ]
          },
          "metadata": {
            "tags": []
          }
        },
        {
          "output_type": "stream",
          "text": [
            "Saving cur_oil.xlsx to cur_oil.xlsx\n"
          ],
          "name": "stdout"
        }
      ]
    },
    {
      "cell_type": "code",
      "metadata": {
        "colab": {
          "base_uri": "https://localhost:8080/",
          "height": 391
        },
        "id": "ryaoCmZCgefO",
        "outputId": "62061728-5cd1-473b-9d2c-a9df42cc9f4d"
      },
      "source": [
        "df = pd.read_excel('cur_oil.xlsx')\n",
        "df"
      ],
      "execution_count": 4,
      "outputs": [
        {
          "output_type": "execute_result",
          "data": {
            "text/html": [
              "<div>\n",
              "<style scoped>\n",
              "    .dataframe tbody tr th:only-of-type {\n",
              "        vertical-align: middle;\n",
              "    }\n",
              "\n",
              "    .dataframe tbody tr th {\n",
              "        vertical-align: top;\n",
              "    }\n",
              "\n",
              "    .dataframe thead th {\n",
              "        text-align: right;\n",
              "    }\n",
              "</style>\n",
              "<table border=\"1\" class=\"dataframe\">\n",
              "  <thead>\n",
              "    <tr style=\"text-align: right;\">\n",
              "      <th></th>\n",
              "      <th>Date</th>\n",
              "      <th>EURUSD=X</th>\n",
              "      <th>OIL</th>\n",
              "    </tr>\n",
              "  </thead>\n",
              "  <tbody>\n",
              "    <tr>\n",
              "      <th>0</th>\n",
              "      <td>2018-01-01</td>\n",
              "      <td>1.2005</td>\n",
              "      <td>NaN</td>\n",
              "    </tr>\n",
              "    <tr>\n",
              "      <th>1</th>\n",
              "      <td>2018-01-02</td>\n",
              "      <td>1.2012</td>\n",
              "      <td>59.15</td>\n",
              "    </tr>\n",
              "    <tr>\n",
              "      <th>2</th>\n",
              "      <td>2018-01-03</td>\n",
              "      <td>1.2063</td>\n",
              "      <td>59.15</td>\n",
              "    </tr>\n",
              "    <tr>\n",
              "      <th>3</th>\n",
              "      <td>2018-01-04</td>\n",
              "      <td>1.2010</td>\n",
              "      <td>59.15</td>\n",
              "    </tr>\n",
              "    <tr>\n",
              "      <th>4</th>\n",
              "      <td>2018-01-05</td>\n",
              "      <td>1.2069</td>\n",
              "      <td>60.44</td>\n",
              "    </tr>\n",
              "    <tr>\n",
              "      <th>...</th>\n",
              "      <td>...</td>\n",
              "      <td>...</td>\n",
              "      <td>...</td>\n",
              "    </tr>\n",
              "    <tr>\n",
              "      <th>341</th>\n",
              "      <td>2019-04-23</td>\n",
              "      <td>1.1259</td>\n",
              "      <td>67.72</td>\n",
              "    </tr>\n",
              "    <tr>\n",
              "      <th>342</th>\n",
              "      <td>2019-04-24</td>\n",
              "      <td>1.1224</td>\n",
              "      <td>67.14</td>\n",
              "    </tr>\n",
              "    <tr>\n",
              "      <th>343</th>\n",
              "      <td>2019-04-25</td>\n",
              "      <td>1.1153</td>\n",
              "      <td>66.37</td>\n",
              "    </tr>\n",
              "    <tr>\n",
              "      <th>344</th>\n",
              "      <td>2019-04-26</td>\n",
              "      <td>1.1137</td>\n",
              "      <td>64.27</td>\n",
              "    </tr>\n",
              "    <tr>\n",
              "      <th>345</th>\n",
              "      <td>2019-04-29</td>\n",
              "      <td>1.1150</td>\n",
              "      <td>64.94</td>\n",
              "    </tr>\n",
              "  </tbody>\n",
              "</table>\n",
              "<p>346 rows × 3 columns</p>\n",
              "</div>"
            ],
            "text/plain": [
              "          Date  EURUSD=X    OIL\n",
              "0   2018-01-01    1.2005    NaN\n",
              "1   2018-01-02    1.2012  59.15\n",
              "2   2018-01-03    1.2063  59.15\n",
              "3   2018-01-04    1.2010  59.15\n",
              "4   2018-01-05    1.2069  60.44\n",
              "..         ...       ...    ...\n",
              "341 2019-04-23    1.1259  67.72\n",
              "342 2019-04-24    1.1224  67.14\n",
              "343 2019-04-25    1.1153  66.37\n",
              "344 2019-04-26    1.1137  64.27\n",
              "345 2019-04-29    1.1150  64.94\n",
              "\n",
              "[346 rows x 3 columns]"
            ]
          },
          "metadata": {
            "tags": []
          },
          "execution_count": 4
        }
      ]
    },
    {
      "cell_type": "code",
      "metadata": {
        "colab": {
          "base_uri": "https://localhost:8080/"
        },
        "id": "u0cRqlstm8Bp",
        "outputId": "be743444-d385-43f2-ceff-31c4d8242d7b"
      },
      "source": [
        "df.info()"
      ],
      "execution_count": 5,
      "outputs": [
        {
          "output_type": "stream",
          "text": [
            "<class 'pandas.core.frame.DataFrame'>\n",
            "RangeIndex: 346 entries, 0 to 345\n",
            "Data columns (total 3 columns):\n",
            " #   Column    Non-Null Count  Dtype         \n",
            "---  ------    --------------  -----         \n",
            " 0   Date      346 non-null    datetime64[ns]\n",
            " 1   EURUSD=X  346 non-null    float64       \n",
            " 2   OIL       332 non-null    float64       \n",
            "dtypes: datetime64[ns](1), float64(2)\n",
            "memory usage: 8.2 KB\n"
          ],
          "name": "stdout"
        }
      ]
    },
    {
      "cell_type": "code",
      "metadata": {
        "colab": {
          "base_uri": "https://localhost:8080/",
          "height": 391
        },
        "id": "vBiCJbIvnAFd",
        "outputId": "df5ef241-19f0-480d-e8f5-a1c14626b208"
      },
      "source": [
        "df.dropna()"
      ],
      "execution_count": 6,
      "outputs": [
        {
          "output_type": "execute_result",
          "data": {
            "text/html": [
              "<div>\n",
              "<style scoped>\n",
              "    .dataframe tbody tr th:only-of-type {\n",
              "        vertical-align: middle;\n",
              "    }\n",
              "\n",
              "    .dataframe tbody tr th {\n",
              "        vertical-align: top;\n",
              "    }\n",
              "\n",
              "    .dataframe thead th {\n",
              "        text-align: right;\n",
              "    }\n",
              "</style>\n",
              "<table border=\"1\" class=\"dataframe\">\n",
              "  <thead>\n",
              "    <tr style=\"text-align: right;\">\n",
              "      <th></th>\n",
              "      <th>Date</th>\n",
              "      <th>EURUSD=X</th>\n",
              "      <th>OIL</th>\n",
              "    </tr>\n",
              "  </thead>\n",
              "  <tbody>\n",
              "    <tr>\n",
              "      <th>1</th>\n",
              "      <td>2018-01-02</td>\n",
              "      <td>1.2012</td>\n",
              "      <td>59.15</td>\n",
              "    </tr>\n",
              "    <tr>\n",
              "      <th>2</th>\n",
              "      <td>2018-01-03</td>\n",
              "      <td>1.2063</td>\n",
              "      <td>59.15</td>\n",
              "    </tr>\n",
              "    <tr>\n",
              "      <th>3</th>\n",
              "      <td>2018-01-04</td>\n",
              "      <td>1.2010</td>\n",
              "      <td>59.15</td>\n",
              "    </tr>\n",
              "    <tr>\n",
              "      <th>4</th>\n",
              "      <td>2018-01-05</td>\n",
              "      <td>1.2069</td>\n",
              "      <td>60.44</td>\n",
              "    </tr>\n",
              "    <tr>\n",
              "      <th>5</th>\n",
              "      <td>2018-01-08</td>\n",
              "      <td>1.2037</td>\n",
              "      <td>60.44</td>\n",
              "    </tr>\n",
              "    <tr>\n",
              "      <th>...</th>\n",
              "      <td>...</td>\n",
              "      <td>...</td>\n",
              "      <td>...</td>\n",
              "    </tr>\n",
              "    <tr>\n",
              "      <th>341</th>\n",
              "      <td>2019-04-23</td>\n",
              "      <td>1.1259</td>\n",
              "      <td>67.72</td>\n",
              "    </tr>\n",
              "    <tr>\n",
              "      <th>342</th>\n",
              "      <td>2019-04-24</td>\n",
              "      <td>1.1224</td>\n",
              "      <td>67.14</td>\n",
              "    </tr>\n",
              "    <tr>\n",
              "      <th>343</th>\n",
              "      <td>2019-04-25</td>\n",
              "      <td>1.1153</td>\n",
              "      <td>66.37</td>\n",
              "    </tr>\n",
              "    <tr>\n",
              "      <th>344</th>\n",
              "      <td>2019-04-26</td>\n",
              "      <td>1.1137</td>\n",
              "      <td>64.27</td>\n",
              "    </tr>\n",
              "    <tr>\n",
              "      <th>345</th>\n",
              "      <td>2019-04-29</td>\n",
              "      <td>1.1150</td>\n",
              "      <td>64.94</td>\n",
              "    </tr>\n",
              "  </tbody>\n",
              "</table>\n",
              "<p>332 rows × 3 columns</p>\n",
              "</div>"
            ],
            "text/plain": [
              "          Date  EURUSD=X    OIL\n",
              "1   2018-01-02    1.2012  59.15\n",
              "2   2018-01-03    1.2063  59.15\n",
              "3   2018-01-04    1.2010  59.15\n",
              "4   2018-01-05    1.2069  60.44\n",
              "5   2018-01-08    1.2037  60.44\n",
              "..         ...       ...    ...\n",
              "341 2019-04-23    1.1259  67.72\n",
              "342 2019-04-24    1.1224  67.14\n",
              "343 2019-04-25    1.1153  66.37\n",
              "344 2019-04-26    1.1137  64.27\n",
              "345 2019-04-29    1.1150  64.94\n",
              "\n",
              "[332 rows x 3 columns]"
            ]
          },
          "metadata": {
            "tags": []
          },
          "execution_count": 6
        }
      ]
    },
    {
      "cell_type": "code",
      "metadata": {
        "id": "qR226-Dug-z6"
      },
      "source": [
        "# Затраты на производство\n",
        "PRODUCTION_COST = 400 # (EUR)\n",
        "PC = PRODUCTION_COST\n",
        "\n",
        "# Расходы на логистику\n",
        "EU_LOGISTIC_COST_EUR = 30 # в Европу в евро\n",
        "EL = EU_LOGISTIC_COST_EUR\n",
        "CN_LOGISTIC_COST_USD = 130 # в Китай в долларах\n",
        "CL = CN_LOGISTIC_COST_USD\n",
        "\n",
        "# * Справочная информация по клиентам(объемы, локации, комментарии) \n",
        "customers = {\n",
        "    'Monty':{\n",
        "        'location':'EU',\n",
        "        'volumes':200,\n",
        "        'comment':'moving_average'\n",
        "    },\n",
        "    \n",
        "    'Triangle':{\n",
        "        'location':'CN',\n",
        "        'volumes': 30,\n",
        "        'comment': 'monthly'\n",
        "    },\n",
        "    'Stone':{\n",
        "        'location':'EU',\n",
        "        'volumes': 150,\n",
        "        'comment': 'moving_average'\n",
        "    },\n",
        "    'Poly':{\n",
        "        'location':'EU',\n",
        "        'volumes': 70,\n",
        "        'comment': 'monthly'\n",
        "    }\n",
        "}\n",
        "# Скидки\n",
        "discounts = {'up to 100': 0.01, # 1%\n",
        "             'up to 300': 0.05, # 5%\n",
        "             '300 plus': 0.1}   #10%"
      ],
      "execution_count": 7,
      "outputs": []
    },
    {
      "cell_type": "markdown",
      "metadata": {
        "id": "cKtBzarJhMYy"
      },
      "source": [
        "Проанализировать имеющиеся данные.\n",
        "Определить базовую формулу цены на условиях FCA (цена на заводе). То есть как бы выглядела цена на исторических данных.\n",
        "Отобразить на графике.\n",
        "Сделать расчет возможной цены по формуле для каждого из клиентов на условиях DDP (цена с доставкой). Записать все в один эксель файл, на разных листах. Каждый лист - название клиента.\n",
        "Предложить формулу цены каждому из клиентов на условиях DDP (цена с доставкой).\n",
        "Создать директорию «для клиентов» и в ней сложить файлы с расчетами.\n",
        "Каждый клиент - отдельный файл (любой из docx, xlsx, pptx, pdf) с именем клиента…"
      ]
    },
    {
      "cell_type": "code",
      "metadata": {
        "id": "msH2lIcyik9L"
      },
      "source": [
        "# цена на заводе\n",
        "\n",
        "price =  16 * df.OIL / df['EURUSD=X'] + 400   \n"
      ],
      "execution_count": 14,
      "outputs": []
    },
    {
      "cell_type": "code",
      "metadata": {
        "colab": {
          "base_uri": "https://localhost:8080/",
          "height": 391
        },
        "id": "UbcIAnwxmGpD",
        "outputId": "eb31627a-b8ac-4c04-cd82-577f279aba5c"
      },
      "source": [
        "# добавим колонку с результатом в df\n",
        "\n",
        "df1 = df.assign(price = df['OIL']*16/df['EURUSD=X']+400)\n",
        "df1"
      ],
      "execution_count": 15,
      "outputs": [
        {
          "output_type": "execute_result",
          "data": {
            "text/html": [
              "<div>\n",
              "<style scoped>\n",
              "    .dataframe tbody tr th:only-of-type {\n",
              "        vertical-align: middle;\n",
              "    }\n",
              "\n",
              "    .dataframe tbody tr th {\n",
              "        vertical-align: top;\n",
              "    }\n",
              "\n",
              "    .dataframe thead th {\n",
              "        text-align: right;\n",
              "    }\n",
              "</style>\n",
              "<table border=\"1\" class=\"dataframe\">\n",
              "  <thead>\n",
              "    <tr style=\"text-align: right;\">\n",
              "      <th></th>\n",
              "      <th>Date</th>\n",
              "      <th>EURUSD=X</th>\n",
              "      <th>OIL</th>\n",
              "      <th>price</th>\n",
              "    </tr>\n",
              "  </thead>\n",
              "  <tbody>\n",
              "    <tr>\n",
              "      <th>0</th>\n",
              "      <td>2018-01-01</td>\n",
              "      <td>1.2005</td>\n",
              "      <td>NaN</td>\n",
              "      <td>NaN</td>\n",
              "    </tr>\n",
              "    <tr>\n",
              "      <th>1</th>\n",
              "      <td>2018-01-02</td>\n",
              "      <td>1.2012</td>\n",
              "      <td>59.15</td>\n",
              "      <td>1187.878788</td>\n",
              "    </tr>\n",
              "    <tr>\n",
              "      <th>2</th>\n",
              "      <td>2018-01-03</td>\n",
              "      <td>1.2063</td>\n",
              "      <td>59.15</td>\n",
              "      <td>1184.547791</td>\n",
              "    </tr>\n",
              "    <tr>\n",
              "      <th>3</th>\n",
              "      <td>2018-01-04</td>\n",
              "      <td>1.2010</td>\n",
              "      <td>59.15</td>\n",
              "      <td>1188.009992</td>\n",
              "    </tr>\n",
              "    <tr>\n",
              "      <th>4</th>\n",
              "      <td>2018-01-05</td>\n",
              "      <td>1.2069</td>\n",
              "      <td>60.44</td>\n",
              "      <td>1201.259425</td>\n",
              "    </tr>\n",
              "    <tr>\n",
              "      <th>...</th>\n",
              "      <td>...</td>\n",
              "      <td>...</td>\n",
              "      <td>...</td>\n",
              "      <td>...</td>\n",
              "    </tr>\n",
              "    <tr>\n",
              "      <th>341</th>\n",
              "      <td>2019-04-23</td>\n",
              "      <td>1.1259</td>\n",
              "      <td>67.72</td>\n",
              "      <td>1362.359002</td>\n",
              "    </tr>\n",
              "    <tr>\n",
              "      <th>342</th>\n",
              "      <td>2019-04-24</td>\n",
              "      <td>1.1224</td>\n",
              "      <td>67.14</td>\n",
              "      <td>1357.091946</td>\n",
              "    </tr>\n",
              "    <tr>\n",
              "      <th>343</th>\n",
              "      <td>2019-04-25</td>\n",
              "      <td>1.1153</td>\n",
              "      <td>66.37</td>\n",
              "      <td>1352.138438</td>\n",
              "    </tr>\n",
              "    <tr>\n",
              "      <th>344</th>\n",
              "      <td>2019-04-26</td>\n",
              "      <td>1.1137</td>\n",
              "      <td>64.27</td>\n",
              "      <td>1323.336626</td>\n",
              "    </tr>\n",
              "    <tr>\n",
              "      <th>345</th>\n",
              "      <td>2019-04-29</td>\n",
              "      <td>1.1150</td>\n",
              "      <td>64.94</td>\n",
              "      <td>1331.874439</td>\n",
              "    </tr>\n",
              "  </tbody>\n",
              "</table>\n",
              "<p>346 rows × 4 columns</p>\n",
              "</div>"
            ],
            "text/plain": [
              "          Date  EURUSD=X    OIL        price\n",
              "0   2018-01-01    1.2005    NaN          NaN\n",
              "1   2018-01-02    1.2012  59.15  1187.878788\n",
              "2   2018-01-03    1.2063  59.15  1184.547791\n",
              "3   2018-01-04    1.2010  59.15  1188.009992\n",
              "4   2018-01-05    1.2069  60.44  1201.259425\n",
              "..         ...       ...    ...          ...\n",
              "341 2019-04-23    1.1259  67.72  1362.359002\n",
              "342 2019-04-24    1.1224  67.14  1357.091946\n",
              "343 2019-04-25    1.1153  66.37  1352.138438\n",
              "344 2019-04-26    1.1137  64.27  1323.336626\n",
              "345 2019-04-29    1.1150  64.94  1331.874439\n",
              "\n",
              "[346 rows x 4 columns]"
            ]
          },
          "metadata": {
            "tags": []
          },
          "execution_count": 15
        }
      ]
    },
    {
      "cell_type": "code",
      "metadata": {
        "colab": {
          "base_uri": "https://localhost:8080/",
          "height": 470
        },
        "id": "57W9YeiJCgUJ",
        "outputId": "761182f0-de77-4eb4-b918-71626406feb6"
      },
      "source": [
        "# отобразила на графике\n",
        "\n",
        "df1.plot(x='Date', y='price')\n",
        "df1.head(5)"
      ],
      "execution_count": 19,
      "outputs": [
        {
          "output_type": "execute_result",
          "data": {
            "text/html": [
              "<div>\n",
              "<style scoped>\n",
              "    .dataframe tbody tr th:only-of-type {\n",
              "        vertical-align: middle;\n",
              "    }\n",
              "\n",
              "    .dataframe tbody tr th {\n",
              "        vertical-align: top;\n",
              "    }\n",
              "\n",
              "    .dataframe thead th {\n",
              "        text-align: right;\n",
              "    }\n",
              "</style>\n",
              "<table border=\"1\" class=\"dataframe\">\n",
              "  <thead>\n",
              "    <tr style=\"text-align: right;\">\n",
              "      <th></th>\n",
              "      <th>Date</th>\n",
              "      <th>EURUSD=X</th>\n",
              "      <th>OIL</th>\n",
              "      <th>price</th>\n",
              "    </tr>\n",
              "  </thead>\n",
              "  <tbody>\n",
              "    <tr>\n",
              "      <th>0</th>\n",
              "      <td>2018-01-01</td>\n",
              "      <td>1.2005</td>\n",
              "      <td>NaN</td>\n",
              "      <td>NaN</td>\n",
              "    </tr>\n",
              "    <tr>\n",
              "      <th>1</th>\n",
              "      <td>2018-01-02</td>\n",
              "      <td>1.2012</td>\n",
              "      <td>59.15</td>\n",
              "      <td>1187.878788</td>\n",
              "    </tr>\n",
              "    <tr>\n",
              "      <th>2</th>\n",
              "      <td>2018-01-03</td>\n",
              "      <td>1.2063</td>\n",
              "      <td>59.15</td>\n",
              "      <td>1184.547791</td>\n",
              "    </tr>\n",
              "    <tr>\n",
              "      <th>3</th>\n",
              "      <td>2018-01-04</td>\n",
              "      <td>1.2010</td>\n",
              "      <td>59.15</td>\n",
              "      <td>1188.009992</td>\n",
              "    </tr>\n",
              "    <tr>\n",
              "      <th>4</th>\n",
              "      <td>2018-01-05</td>\n",
              "      <td>1.2069</td>\n",
              "      <td>60.44</td>\n",
              "      <td>1201.259425</td>\n",
              "    </tr>\n",
              "  </tbody>\n",
              "</table>\n",
              "</div>"
            ],
            "text/plain": [
              "        Date  EURUSD=X    OIL        price\n",
              "0 2018-01-01    1.2005    NaN          NaN\n",
              "1 2018-01-02    1.2012  59.15  1187.878788\n",
              "2 2018-01-03    1.2063  59.15  1184.547791\n",
              "3 2018-01-04    1.2010  59.15  1188.009992\n",
              "4 2018-01-05    1.2069  60.44  1201.259425"
            ]
          },
          "metadata": {
            "tags": []
          },
          "execution_count": 19
        },
        {
          "output_type": "display_data",
          "data": {
            "image/png": "[encoded data removed]",
            "text/plain": [
              "<Figure size 432x288 with 1 Axes>"
            ]
          },
          "metadata": {
            "tags": []
          }
        }
      ]
    },
    {
      "cell_type": "code",
      "metadata": {
        "colab": {
          "base_uri": "https://localhost:8080/",
          "height": 391
        },
        "id": "MihDJzQjDBnd",
        "outputId": "c4019a5d-4be9-4418-b9b8-d9be7ebf89f1"
      },
      "source": [
        "# добавим колонку с рассчетом цены для каждого клиента\n",
        "\n",
        "df2 = df1.assign(eur = df1.price + 30)\n",
        "df2\n"
      ],
      "execution_count": 20,
      "outputs": [
        {
          "output_type": "execute_result",
          "data": {
            "text/html": [
              "<div>\n",
              "<style scoped>\n",
              "    .dataframe tbody tr th:only-of-type {\n",
              "        vertical-align: middle;\n",
              "    }\n",
              "\n",
              "    .dataframe tbody tr th {\n",
              "        vertical-align: top;\n",
              "    }\n",
              "\n",
              "    .dataframe thead th {\n",
              "        text-align: right;\n",
              "    }\n",
              "</style>\n",
              "<table border=\"1\" class=\"dataframe\">\n",
              "  <thead>\n",
              "    <tr style=\"text-align: right;\">\n",
              "      <th></th>\n",
              "      <th>Date</th>\n",
              "      <th>EURUSD=X</th>\n",
              "      <th>OIL</th>\n",
              "      <th>price</th>\n",
              "      <th>eur</th>\n",
              "    </tr>\n",
              "  </thead>\n",
              "  <tbody>\n",
              "    <tr>\n",
              "      <th>0</th>\n",
              "      <td>2018-01-01</td>\n",
              "      <td>1.2005</td>\n",
              "      <td>NaN</td>\n",
              "      <td>NaN</td>\n",
              "      <td>NaN</td>\n",
              "    </tr>\n",
              "    <tr>\n",
              "      <th>1</th>\n",
              "      <td>2018-01-02</td>\n",
              "      <td>1.2012</td>\n",
              "      <td>59.15</td>\n",
              "      <td>1187.878788</td>\n",
              "      <td>1217.878788</td>\n",
              "    </tr>\n",
              "    <tr>\n",
              "      <th>2</th>\n",
              "      <td>2018-01-03</td>\n",
              "      <td>1.2063</td>\n",
              "      <td>59.15</td>\n",
              "      <td>1184.547791</td>\n",
              "      <td>1214.547791</td>\n",
              "    </tr>\n",
              "    <tr>\n",
              "      <th>3</th>\n",
              "      <td>2018-01-04</td>\n",
              "      <td>1.2010</td>\n",
              "      <td>59.15</td>\n",
              "      <td>1188.009992</td>\n",
              "      <td>1218.009992</td>\n",
              "    </tr>\n",
              "    <tr>\n",
              "      <th>4</th>\n",
              "      <td>2018-01-05</td>\n",
              "      <td>1.2069</td>\n",
              "      <td>60.44</td>\n",
              "      <td>1201.259425</td>\n",
              "      <td>1231.259425</td>\n",
              "    </tr>\n",
              "    <tr>\n",
              "      <th>...</th>\n",
              "      <td>...</td>\n",
              "      <td>...</td>\n",
              "      <td>...</td>\n",
              "      <td>...</td>\n",
              "      <td>...</td>\n",
              "    </tr>\n",
              "    <tr>\n",
              "      <th>341</th>\n",
              "      <td>2019-04-23</td>\n",
              "      <td>1.1259</td>\n",
              "      <td>67.72</td>\n",
              "      <td>1362.359002</td>\n",
              "      <td>1392.359002</td>\n",
              "    </tr>\n",
              "    <tr>\n",
              "      <th>342</th>\n",
              "      <td>2019-04-24</td>\n",
              "      <td>1.1224</td>\n",
              "      <td>67.14</td>\n",
              "      <td>1357.091946</td>\n",
              "      <td>1387.091946</td>\n",
              "    </tr>\n",
              "    <tr>\n",
              "      <th>343</th>\n",
              "      <td>2019-04-25</td>\n",
              "      <td>1.1153</td>\n",
              "      <td>66.37</td>\n",
              "      <td>1352.138438</td>\n",
              "      <td>1382.138438</td>\n",
              "    </tr>\n",
              "    <tr>\n",
              "      <th>344</th>\n",
              "      <td>2019-04-26</td>\n",
              "      <td>1.1137</td>\n",
              "      <td>64.27</td>\n",
              "      <td>1323.336626</td>\n",
              "      <td>1353.336626</td>\n",
              "    </tr>\n",
              "    <tr>\n",
              "      <th>345</th>\n",
              "      <td>2019-04-29</td>\n",
              "      <td>1.1150</td>\n",
              "      <td>64.94</td>\n",
              "      <td>1331.874439</td>\n",
              "      <td>1361.874439</td>\n",
              "    </tr>\n",
              "  </tbody>\n",
              "</table>\n",
              "<p>346 rows × 5 columns</p>\n",
              "</div>"
            ],
            "text/plain": [
              "          Date  EURUSD=X    OIL        price          eur\n",
              "0   2018-01-01    1.2005    NaN          NaN          NaN\n",
              "1   2018-01-02    1.2012  59.15  1187.878788  1217.878788\n",
              "2   2018-01-03    1.2063  59.15  1184.547791  1214.547791\n",
              "3   2018-01-04    1.2010  59.15  1188.009992  1218.009992\n",
              "4   2018-01-05    1.2069  60.44  1201.259425  1231.259425\n",
              "..         ...       ...    ...          ...          ...\n",
              "341 2019-04-23    1.1259  67.72  1362.359002  1392.359002\n",
              "342 2019-04-24    1.1224  67.14  1357.091946  1387.091946\n",
              "343 2019-04-25    1.1153  66.37  1352.138438  1382.138438\n",
              "344 2019-04-26    1.1137  64.27  1323.336626  1353.336626\n",
              "345 2019-04-29    1.1150  64.94  1331.874439  1361.874439\n",
              "\n",
              "[346 rows x 5 columns]"
            ]
          },
          "metadata": {
            "tags": []
          },
          "execution_count": 20
        }
      ]
    },
    {
      "cell_type": "code",
      "metadata": {
        "id": "fUSJu58xF0sq"
      },
      "source": [
        "# сохранила как файл csv\n",
        "\n",
        "df2.to_csv('europe.csv')"
      ],
      "execution_count": 24,
      "outputs": []
    },
    {
      "cell_type": "code",
      "metadata": {
        "colab": {
          "base_uri": "https://localhost:8080/",
          "height": 391
        },
        "id": "rME5OXkADnvt",
        "outputId": "61bf63a7-716e-47c6-841c-63b3617fe3a4"
      },
      "source": [
        "df3 = df1.assign(chi = df1.price + 130)\n",
        "df3\n"
      ],
      "execution_count": 22,
      "outputs": [
        {
          "output_type": "execute_result",
          "data": {
            "text/html": [
              "<div>\n",
              "<style scoped>\n",
              "    .dataframe tbody tr th:only-of-type {\n",
              "        vertical-align: middle;\n",
              "    }\n",
              "\n",
              "    .dataframe tbody tr th {\n",
              "        vertical-align: top;\n",
              "    }\n",
              "\n",
              "    .dataframe thead th {\n",
              "        text-align: right;\n",
              "    }\n",
              "</style>\n",
              "<table border=\"1\" class=\"dataframe\">\n",
              "  <thead>\n",
              "    <tr style=\"text-align: right;\">\n",
              "      <th></th>\n",
              "      <th>Date</th>\n",
              "      <th>EURUSD=X</th>\n",
              "      <th>OIL</th>\n",
              "      <th>price</th>\n",
              "      <th>chi</th>\n",
              "    </tr>\n",
              "  </thead>\n",
              "  <tbody>\n",
              "    <tr>\n",
              "      <th>0</th>\n",
              "      <td>2018-01-01</td>\n",
              "      <td>1.2005</td>\n",
              "      <td>NaN</td>\n",
              "      <td>NaN</td>\n",
              "      <td>NaN</td>\n",
              "    </tr>\n",
              "    <tr>\n",
              "      <th>1</th>\n",
              "      <td>2018-01-02</td>\n",
              "      <td>1.2012</td>\n",
              "      <td>59.15</td>\n",
              "      <td>1187.878788</td>\n",
              "      <td>1317.878788</td>\n",
              "    </tr>\n",
              "    <tr>\n",
              "      <th>2</th>\n",
              "      <td>2018-01-03</td>\n",
              "      <td>1.2063</td>\n",
              "      <td>59.15</td>\n",
              "      <td>1184.547791</td>\n",
              "      <td>1314.547791</td>\n",
              "    </tr>\n",
              "    <tr>\n",
              "      <th>3</th>\n",
              "      <td>2018-01-04</td>\n",
              "      <td>1.2010</td>\n",
              "      <td>59.15</td>\n",
              "      <td>1188.009992</td>\n",
              "      <td>1318.009992</td>\n",
              "    </tr>\n",
              "    <tr>\n",
              "      <th>4</th>\n",
              "      <td>2018-01-05</td>\n",
              "      <td>1.2069</td>\n",
              "      <td>60.44</td>\n",
              "      <td>1201.259425</td>\n",
              "      <td>1331.259425</td>\n",
              "    </tr>\n",
              "    <tr>\n",
              "      <th>...</th>\n",
              "      <td>...</td>\n",
              "      <td>...</td>\n",
              "      <td>...</td>\n",
              "      <td>...</td>\n",
              "      <td>...</td>\n",
              "    </tr>\n",
              "    <tr>\n",
              "      <th>341</th>\n",
              "      <td>2019-04-23</td>\n",
              "      <td>1.1259</td>\n",
              "      <td>67.72</td>\n",
              "      <td>1362.359002</td>\n",
              "      <td>1492.359002</td>\n",
              "    </tr>\n",
              "    <tr>\n",
              "      <th>342</th>\n",
              "      <td>2019-04-24</td>\n",
              "      <td>1.1224</td>\n",
              "      <td>67.14</td>\n",
              "      <td>1357.091946</td>\n",
              "      <td>1487.091946</td>\n",
              "    </tr>\n",
              "    <tr>\n",
              "      <th>343</th>\n",
              "      <td>2019-04-25</td>\n",
              "      <td>1.1153</td>\n",
              "      <td>66.37</td>\n",
              "      <td>1352.138438</td>\n",
              "      <td>1482.138438</td>\n",
              "    </tr>\n",
              "    <tr>\n",
              "      <th>344</th>\n",
              "      <td>2019-04-26</td>\n",
              "      <td>1.1137</td>\n",
              "      <td>64.27</td>\n",
              "      <td>1323.336626</td>\n",
              "      <td>1453.336626</td>\n",
              "    </tr>\n",
              "    <tr>\n",
              "      <th>345</th>\n",
              "      <td>2019-04-29</td>\n",
              "      <td>1.1150</td>\n",
              "      <td>64.94</td>\n",
              "      <td>1331.874439</td>\n",
              "      <td>1461.874439</td>\n",
              "    </tr>\n",
              "  </tbody>\n",
              "</table>\n",
              "<p>346 rows × 5 columns</p>\n",
              "</div>"
            ],
            "text/plain": [
              "          Date  EURUSD=X    OIL        price          chi\n",
              "0   2018-01-01    1.2005    NaN          NaN          NaN\n",
              "1   2018-01-02    1.2012  59.15  1187.878788  1317.878788\n",
              "2   2018-01-03    1.2063  59.15  1184.547791  1314.547791\n",
              "3   2018-01-04    1.2010  59.15  1188.009992  1318.009992\n",
              "4   2018-01-05    1.2069  60.44  1201.259425  1331.259425\n",
              "..         ...       ...    ...          ...          ...\n",
              "341 2019-04-23    1.1259  67.72  1362.359002  1492.359002\n",
              "342 2019-04-24    1.1224  67.14  1357.091946  1487.091946\n",
              "343 2019-04-25    1.1153  66.37  1352.138438  1482.138438\n",
              "344 2019-04-26    1.1137  64.27  1323.336626  1453.336626\n",
              "345 2019-04-29    1.1150  64.94  1331.874439  1461.874439\n",
              "\n",
              "[346 rows x 5 columns]"
            ]
          },
          "metadata": {
            "tags": []
          },
          "execution_count": 22
        }
      ]
    },
    {
      "cell_type": "code",
      "metadata": {
        "id": "YNYEEaR_GA5w"
      },
      "source": [
        "df3.to_csv('china.csv')"
      ],
      "execution_count": 25,
      "outputs": []
    },
    {
      "cell_type": "code",
      "metadata": {
        "colab": {
          "base_uri": "https://localhost:8080/"
        },
        "id": "tSl1ASPfEjbP",
        "outputId": "1a4e2eb4-2ee5-49eb-a51a-bf3b3622afaa"
      },
      "source": [
        "# Создать директорию «для клиентов» и в ней сложить файлы с расчетами\n",
        "import os\n",
        "\n",
        "# определим имя директории, которую создаём\n",
        "path = \"/tmp/price\"\n",
        "\n",
        "try:\n",
        "    os.mkdir(path)\n",
        "except OSError:\n",
        "    print (\"Создать директорию %s не удалось\" % path)\n",
        "else:\n",
        "    print (\"Успешно создана директория %s \" % path)"
      ],
      "execution_count": 23,
      "outputs": [
        {
          "output_type": "stream",
          "text": [
            "Успешно создана директория /tmp/price \n"
          ],
          "name": "stdout"
        }
      ]
    },
    {
      "cell_type": "markdown",
      "metadata": {
        "id": "UquwTgwWIH16"
      },
      "source": [
        "\n",
        "Задание 2. Продолжение\n",
        "Клиенты согласились на ваше предложение. Вам нужно сделать написать скрипт, с помощью которого можно автоматом рассчитывать цены для всех клиентов одновременно. Важный момент: данные для расчета скрипт должен подтягивать сам.\n",
        "\n",
        "В результате должно быть 3 файла\n",
        "\n",
        "Ноутбук с расчетами и графиками (чтобы данные подтягивались туда)\n",
        "Скрипт, который делает расчет цены для клиента (чтобы данные подтягивались туда сами)"
      ]
    },
    {
      "cell_type": "code",
      "metadata": {
        "colab": {
          "base_uri": "https://localhost:8080/"
        },
        "id": "uobZ2DnPIpI6",
        "outputId": "d56e8a59-656b-4531-fb72-5518c46a838e"
      },
      "source": [
        "# напи сала формулу для рассчета, если используем данные из датафрейм\n",
        "\n",
        "price_eur =  16 * df.OIL / df['EURUSD=X'] + 400  + 30\n",
        "price_chi = 16 * df.OIL / df['EURUSD=X'] + 400  + 130\n",
        "print('Цена для клиентов из Европы', price_eur, 'Цена для клиентов из Китая', price_chi)"
      ],
      "execution_count": 31,
      "outputs": [
        {
          "output_type": "stream",
          "text": [
            "Цена для клиентов из Европы 0              NaN\n",
            "1      1217.878788\n",
            "2      1214.547791\n",
            "3      1218.009992\n",
            "4      1231.259425\n",
            "          ...     \n",
            "341    1392.359002\n",
            "342    1387.091946\n",
            "343    1382.138438\n",
            "344    1353.336626\n",
            "345    1361.874439\n",
            "Length: 346, dtype: float64 Цена для клиентов из Китая 0              NaN\n",
            "1      1317.878788\n",
            "2      1314.547791\n",
            "3      1318.009992\n",
            "4      1331.259425\n",
            "          ...     \n",
            "341    1492.359002\n",
            "342    1487.091946\n",
            "343    1482.138438\n",
            "344    1453.336626\n",
            "345    1461.874439\n",
            "Length: 346, dtype: float64\n"
          ],
          "name": "stdout"
        }
      ]
    },
    {
      "cell_type": "code",
      "metadata": {
        "colab": {
          "base_uri": "https://localhost:8080/"
        },
        "id": "hhidgxb0MpM8",
        "outputId": "e28e32ee-c827-4050-db1c-c9e9f630d3cc"
      },
      "source": [
        "# но курс доллара и цена на нефть ежедневно меняется, написала формулу, в которую нужно посдставлять свежие данные\n",
        "\n",
        "n = int(input()) # цена нефти сегодня\n",
        "m = int(input()) # курс евро сегодня\n",
        "p = int(input()) # курс доллара сегодня\n",
        "\n",
        "price_eu = 16*n/m + 30\n",
        "price_ch = 16*n/p +130\n",
        "\n",
        "print(price_eu, price_ch)"
      ],
      "execution_count": 33,
      "outputs": [
        {
          "output_type": "stream",
          "text": [
            "58\n",
            "86\n",
            "78\n",
            "40.7906976744186 141.8974358974359\n"
          ],
          "name": "stdout"
        }
      ]
    },
    {
      "cell_type": "code",
      "metadata": {
        "id": "pwRtMadyONpc"
      },
      "source": [
        ""
      ],
      "execution_count": null,
      "outputs": []
    }
  ]
}