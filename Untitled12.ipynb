{
 "cells": [
  {
   "cell_type": "code",
   "execution_count": 2,
   "metadata": {},
   "outputs": [],
   "source": [
    "# 1. Посмотрите видео Дэвида Бизли про всроенные инструменты Python\n",
    "# 2. Попробуйте используя встроенные инструменты Python проанизировать таблицу из файла \"Vacancy.csv\"\n",
    "# 3. Попробуйте ответить на вопросы:\n",
    "# Сколько вакансий, которые вам нравятся?\n",
    "# Насколько свежие эти вакансии?\n",
    "# Сколько вакансий с позициями на которых вы работаете?\n",
    "# Сколько вакансий для аналатика данных?\n",
    "# Сколько вакансий для аналитика данных с использованием Python?\n",
    "\n",
    "# В задании важно не использовать pandas и numpy, а встроенные инструменты python\n",
    "# Counter, CSV, defaultdict, sorted"
   ]
  },
  {
   "cell_type": "code",
   "execution_count": 9,
   "metadata": {},
   "outputs": [
    {
     "data": {
      "text/plain": [
       "1000000"
      ]
     },
     "execution_count": 9,
     "metadata": {},
     "output_type": "execute_result"
    }
   ],
   "source": [
    "import csv\n",
    "import sys\n",
    "#csv.field_size_limit(sys.maxsize)\n",
    "csv.field_size_limit(1000000)"
   ]
  },
  {
   "cell_type": "code",
   "execution_count": 10,
   "metadata": {},
   "outputs": [],
   "source": [
    "#vacs = list(csv.DictReader(open('Vacancy.csv')))\n",
    "vacs = list(csv.DictReader(open('Vacancy.csv', encoding='utf-8', newline='')))\n"
   ]
  },
  {
   "cell_type": "code",
   "execution_count": 11,
   "metadata": {},
   "outputs": [
    {
     "name": "stdout",
     "output_type": "stream",
     "text": [
      "289\n"
     ]
    }
   ],
   "source": [
    "# сколько вакансий, на кторорых вы работаете\n",
    "kolVac=0\n",
    "for i in range(0,len(vacs)):\n",
    "    k=vacs[i]\n",
    "    l = k.get('vactitle').upper()\n",
    "    k1 = l.rfind(\"СТАРШИЙ МЕНЕДЖЕР ПО ОБСЛУЖИВАНИЮ\")\n",
    "    if k1>=0:\n",
    "         kolVac=kolVac+1\n",
    "print(kolVac)   "
   ]
  },
  {
   "cell_type": "code",
   "execution_count": 12,
   "metadata": {},
   "outputs": [
    {
     "name": "stdout",
     "output_type": "stream",
     "text": [
      "38\n"
     ]
    }
   ],
   "source": [
    "# сколько вакансий, которые Вам нравятся\n",
    "\n",
    "kolVac=0\n",
    "for i in range(0,len(vacs)):\n",
    "    k=vacs[i]\n",
    "    l = k.get('vactitle').upper()\n",
    "    k = l.rfind(\"ТЕСТИРОВЩИК\")\n",
    "    if k>=0:\n",
    "        kolVac=kolVac+1\n",
    "print(kolVac)  \n",
    "\n"
   ]
  },
  {
   "cell_type": "code",
   "execution_count": 13,
   "metadata": {},
   "outputs": [
    {
     "name": "stdout",
     "output_type": "stream",
     "text": [
      "389\n"
     ]
    }
   ],
   "source": [
    "#Сколько вакансий для аналатика данных?\n",
    "kolVac=0\n",
    "for i in range(0,len(vacs)):\n",
    "    k=vacs[i]\n",
    "    l = k.get('vactitle').upper()\n",
    "    #print(l)\n",
    "    k1 = l.rfind(\"АНАЛИТИК\")\n",
    "    if k1>=0:\n",
    "         kolVac=kolVac+1\n",
    "print(kolVac)  "
   ]
  },
  {
   "cell_type": "code",
   "execution_count": 14,
   "metadata": {},
   "outputs": [
    {
     "name": "stdout",
     "output_type": "stream",
     "text": [
      "57\n"
     ]
    }
   ],
   "source": [
    "# Сколько вакансий для аналитика данных с использованием Python?\n",
    "kolVac=0\n",
    "for i in range(0,len(vacs)):\n",
    "    k=vacs[i]\n",
    "    l = k.get('vacdescription').lower()\n",
    "    #print(l)\n",
    "    k1 = l.rfind(\"python\")\n",
    "    l = k.get('vactitle').lower()\n",
    "    #print(l)\n",
    "    k2 = l.rfind(\"аналитик\")\n",
    "    if k2>=0 and k1>=0:\n",
    "         kolVac=kolVac+1\n",
    "print(kolVac)     "
   ]
  },
  {
   "cell_type": "code",
   "execution_count": null,
   "metadata": {},
   "outputs": [],
   "source": []
  },
  {
   "cell_type": "code",
   "execution_count": 17,
   "metadata": {},
   "outputs": [
    {
     "name": "stdout",
     "output_type": "stream",
     "text": [
      "id вакансии 383486 ТЕСТИРОВЩИК-АВТОМАТИЗАТОР (QA) Дата вакансии  14/03/21\n",
      "id вакансии 383568 ТЕСТИРОВЩИК ПО (QA AUTOMATION ENGINEER) Дата вакансии  14/03/21\n",
      "id вакансии 383679 ТЕСТИРОВЩИК ( UI, WEB-СЕРВИСЫ) Дата вакансии  14/03/21\n",
      "id вакансии 383768 АВТОТЕСТИРОВЩИК Дата вакансии  14/03/21\n",
      "id вакансии 383769 АВТОТЕСТИРОВЩИК Дата вакансии  14/03/21\n",
      "id вакансии 383829 ТЕСТИРОВЩИК / QA ENGINEER Дата вакансии  14/03/21\n",
      "id вакансии 383933 ТЕСТИРОВЩИК MOBILE. МАССОВАЯ ПЕРСОНАЛИЗАЦИЯ Дата вакансии  14/03/21\n",
      "id вакансии 384020 ТЕСТИРОВЩИК BACKEND (НАПРАВЛЕНИЕ \"ГОСПРОДУКТЫ И СЕРВИСЫ\") Дата вакансии  14/03/21\n",
      "id вакансии 384026 ТЕСТИРОВЩИК Дата вакансии  14/03/21\n",
      "id вакансии 384117 QA ТЕСТИРОВЩИК Дата вакансии  14/03/21\n",
      "id вакансии 384310 ТЕСТИРОВЩИК (СИТУАЦИОННЫЙ ЦЕНТР) Дата вакансии  14/03/21\n",
      "id вакансии 384535 ТЕСТИРОВЩИК Дата вакансии  14/03/21\n",
      "id вакансии 384628 QA ENGINEER/ТЕСТИРОВЩИК (КОМАНДА КОНСТРУКТОР СТАВОК) Дата вакансии  14/03/21\n",
      "id вакансии 384683 СИСТЕМНЫЙ АНАЛИТИК/ТЕСТИРОВЩИК В КОМАНДУ PAYMENTS.WEB_СББОЛ Дата вакансии  14/03/21\n",
      "id вакансии 384838 ТЕСТИРОВЩИК Дата вакансии  14/03/21\n",
      "id вакансии 384928 ТЕСТИРОВЩИК Дата вакансии  14/03/21\n",
      "id вакансии 385301 QA (WEB ТЕСТИРОВЩИК) Дата вакансии  14/03/21\n",
      "id вакансии 385304 ТЕСТИРОВЩИК-АВТОМАТИЗАТОР (QA) Дата вакансии  14/03/21\n",
      "id вакансии 385396 QA/ТЕСТИРОВЩИК (ПЛАТФОРМА РАЗВИТИЯ БИЗНЕСА) Дата вакансии  14/03/21\n",
      "id вакансии 385463 ТЕСТИРОВЩИК (ФУНКЦИОНАЛЬНОЕ ТЕСТИРОВАНИЕ) Дата вакансии  14/03/21\n",
      "id вакансии 385560 QA AUTOMATION ENGINEER/ ТЕСТИРОВЩИК-АВТОМАТИЗАТОР Дата вакансии  14/03/21\n",
      "id вакансии 385745 ГЛАВНЫЙ ИНЖЕНЕР ПО РАЗРАБОТКЕ (ТЕСТИРОВЩИК) Дата вакансии  14/03/21\n",
      "id вакансии 385853 СИСТЕМНЫЙ АНАЛИТИК/ ТЕСТИРОВЩИК DIASOFT Дата вакансии  14/03/21\n",
      "id вакансии 385883 ИНЖЕНЕР ТЕСТИРОВЩИК Дата вакансии  14/03/21\n",
      "id вакансии 386017 ТЕСТИРОВЩИК Дата вакансии  14/03/21\n",
      "id вакансии 386580 ТЕСТИРОВЩИК ПО (QA AUTOMATION ENGINEER) Дата вакансии  14/03/21\n",
      "id вакансии 386598 СТАЖЕР ТЕСТИРОВЩИК Дата вакансии  14/03/21\n",
      "id вакансии 386759 ТЕСТИРОВЩИК (QA ENGINEER) Дата вакансии  14/03/21\n",
      "id вакансии 386818 ТЕСТИРОВЩИК (MANUAL TESTING) Дата вакансии  14/03/21\n",
      "id вакансии 386838 СИСТЕМНЫЙ АНАЛИТИК/ ТЕСТИРОВЩИК DIASOFT Дата вакансии  14/03/21\n",
      "id вакансии 383013 ТЕСТИРОВЩИК ПО/ КОМАНДА \"ДЕПОЗИТАРИЙ\" Дата вакансии  14/03/21\n",
      "id вакансии 383055 ТЕСТИРОВЩИК (ФУНКЦИОНАЛЬНОЕ ТЕСТИРОВАНИЕ) Дата вакансии  14/03/21\n",
      "id вакансии 383063 ТЕСТИРОВЩИК (РУЧНОЕ ТЕСТИРОВАНИЕ) Дата вакансии  14/03/21\n",
      "id вакансии 383093 ТЕСТИРОВЩИК (JAVA РАЗРАБОТЧИК) Дата вакансии  14/03/21\n",
      "id вакансии 383242 ТЕСТИРОВЩИК Дата вакансии  14/03/21\n",
      "id вакансии 383280 ТЕСТИРОВЩИК (SPECIAL SOLUTIONS) Дата вакансии  14/03/21\n",
      "id вакансии 383389 ТЕСТИРОВЩИК ПО/QA (КОМАНДА \"ИНТЕЛЛЕКТУАЛЬНОЕ РАСПОЗНАВАНИЕ ДОКУМЕНТОВ\") Дата вакансии  14/03/21\n",
      "id вакансии 383412 ТЕСТИРОВЩИК (ИФТ) Дата вакансии  14/03/21\n"
     ]
    }
   ],
   "source": [
    "# выгрузила вакансии, видно, что все они от 14.03.2021\n",
    "\n",
    "KolVac=net_vac=k1=k2=k3=0\n",
    "\n",
    "import datetime\n",
    "\n",
    "for i in range(0,len(vacs)):\n",
    "    k=vacs[i]\n",
    "    l = k.get('vactitle').upper()\n",
    "    k1 = l.rfind(\"ТЕСТИРОВЩИК\")\n",
    "    if k1>=0:\n",
    "        KolVac+=1\n",
    "        print('id'' вакансии',k.get('id'),l, 'Дата вакансии ',date_time.strftime(\"%d/%m/%y\"))\n"
   ]
  }
 ],
 "metadata": {
  "kernelspec": {
   "display_name": "Python 3",
   "language": "python",
   "name": "python3"
  },
  "language_info": {
   "codemirror_mode": {
    "name": "ipython",
    "version": 3
   },
   "file_extension": ".py",
   "mimetype": "text/x-python",
   "name": "python",
   "nbconvert_exporter": "python",
   "pygments_lexer": "ipython3",
   "version": "3.8.5"
  }
 },
 "nbformat": 4,
 "nbformat_minor": 4
}
